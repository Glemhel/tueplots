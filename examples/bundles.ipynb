{
 "cells": [
  {
   "cell_type": "code",
   "execution_count": null,
   "id": "45606c2b",
   "metadata": {},
   "outputs": [],
   "source": [
    "from tueplots import bundles, axes\n",
    "import matplotlib.pyplot as plt"
   ]
  },
  {
   "cell_type": "markdown",
   "id": "16a24d54",
   "metadata": {},
   "source": [
    "`tueplots` provides a few prepackaged bundles that can be plugged right into matplotlib's context manager."
   ]
  },
  {
   "cell_type": "code",
   "execution_count": null,
   "id": "98ded658",
   "metadata": {},
   "outputs": [],
   "source": [
    "bundles.icml2022()"
   ]
  },
  {
   "cell_type": "markdown",
   "id": "f2eb40db",
   "metadata": {},
   "source": [
    "Compare the default plots to the context plots below."
   ]
  },
  {
   "cell_type": "code",
   "execution_count": null,
   "id": "70c6e957",
   "metadata": {},
   "outputs": [],
   "source": [
    "fig, ax = plt.subplots(dpi=100)\n",
    "ax.plot([1.0, 2.0], [3.0, 4.0])\n",
    "ax.set_title(\"Title\")\n",
    "ax.set_xlabel(\"xlabel\")\n",
    "ax.set_ylabel(\"ylabel\")\n",
    "plt.show()"
   ]
  },
  {
   "cell_type": "code",
   "execution_count": null,
   "id": "2d1e2ab7",
   "metadata": {},
   "outputs": [],
   "source": [
    "with plt.rc_context({**bundles.neurips2021()}):\n",
    "    fig, ax = plt.subplots(dpi=100)\n",
    "    ax.plot([1.0, 2.0], [3.0, 4.0])\n",
    "    ax.set_title(\"Title\")\n",
    "    ax.set_xlabel(\"xlabel\")\n",
    "    ax.set_ylabel(\"ylabel\")\n",
    "    plt.grid()\n",
    "    plt.show()"
   ]
  },
  {
   "cell_type": "markdown",
   "id": "7cf8e8c2",
   "metadata": {},
   "source": [
    "To get some (subjective) default behaviour, combine the bundles with `axes.lines()` (which is highly customisable, but has some opinionated default arguments)."
   ]
  },
  {
   "cell_type": "code",
   "execution_count": null,
   "id": "81746896",
   "metadata": {},
   "outputs": [],
   "source": [
    "with plt.rc_context({**bundles.neurips2021(), **axes.lines()}):\n",
    "    fig, ax = plt.subplots(dpi=100)\n",
    "    ax.plot([1.0, 2.0], [3.0, 4.0])\n",
    "    ax.set_title(\"Title\")\n",
    "    ax.set_xlabel(\"xlabel\")\n",
    "    ax.set_ylabel(\"ylabel\")\n",
    "    plt.grid()\n",
    "    plt.show()"
   ]
  },
  {
   "cell_type": "code",
   "execution_count": null,
   "id": "90902dee",
   "metadata": {},
   "outputs": [],
   "source": [
    "with plt.rc_context(bundles.neurips2021_tex(family=\"serif\")):\n",
    "    fig, ax = plt.subplots(dpi=300)\n",
    "    ax.plot([1.0, 2.0], [3.0, 4.0])\n",
    "    ax.set_title(\"Title\")\n",
    "    ax.set_xlabel(\"xlabel $\\int f(x) dx$\")\n",
    "    ax.set_ylabel(\"ylabel $x \\sim \\mathcal{N}(x)$\")\n",
    "    plt.grid()\n",
    "    plt.show()"
   ]
  },
  {
   "cell_type": "code",
   "execution_count": null,
   "id": "14f11e88",
   "metadata": {},
   "outputs": [],
   "source": [
    "with plt.rc_context({**bundles.icml2022_tex(), **axes.lines()}):\n",
    "    fig, ax = plt.subplots(dpi=100)\n",
    "    ax.plot([1.0, 2.0], [3.0, 4.0])\n",
    "    ax.set_title(\"Title\")\n",
    "    ax.set_xlabel(\"xlabel $\\int f(x) dx$\")\n",
    "    ax.set_ylabel(\"ylabel $x \\sim \\mathcal{N}(x)$\")\n",
    "    plt.grid()\n",
    "    plt.show()"
   ]
  },
  {
   "cell_type": "code",
   "execution_count": null,
   "id": "ad635d68",
   "metadata": {},
   "outputs": [],
   "source": [
    "with plt.rc_context(bundles.beamer_moml()):\n",
    "    fig, ax = plt.subplots(dpi=100)\n",
    "    ax.plot([1.0, 2.0], [3.0, 4.0])\n",
    "    ax.set_title(\"Title\")\n",
    "    ax.set_xlabel(\"xlabel\")\n",
    "    ax.set_ylabel(\"ylabel\")\n",
    "    ax.grid()\n",
    "    plt.show()"
   ]
  },
  {
   "cell_type": "code",
   "execution_count": null,
   "id": "6d50f710",
   "metadata": {},
   "outputs": [],
   "source": [
    "with plt.rc_context(bundles.beamer_moml_dark_bg()):\n",
    "    fig, ax = plt.subplots(dpi=100)\n",
    "    ax.plot([1.0, 2.0], [3.0, 4.0])\n",
    "    ax.set_title(\"Title\")\n",
    "    ax.set_xlabel(\"xlabel\")\n",
    "    ax.set_ylabel(\"ylabel\")\n",
    "    ax.grid()\n",
    "    plt.show()"
   ]
  },
  {
   "cell_type": "code",
   "execution_count": null,
   "id": "ef8946a6",
   "metadata": {},
   "outputs": [],
   "source": []
  }
 ],
 "metadata": {
  "kernelspec": {
   "display_name": "Python 3 (ipykernel)",
   "language": "python",
   "name": "python3"
  },
  "language_info": {
   "codemirror_mode": {
    "name": "ipython",
    "version": 3
   },
   "file_extension": ".py",
   "mimetype": "text/x-python",
   "name": "python",
   "nbconvert_exporter": "python",
   "pygments_lexer": "ipython3",
   "version": "3.8.10"
  }
 },
 "nbformat": 4,
 "nbformat_minor": 5
}
